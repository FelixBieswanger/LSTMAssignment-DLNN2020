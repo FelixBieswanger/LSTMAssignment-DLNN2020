{
 "cells": [
  {
   "cell_type": "code",
   "execution_count": 2,
   "source": [
    "import os \n",
    "import numpy as np\n",
    "import ipywidgets as widgets\n"
   ],
   "outputs": [],
   "metadata": {}
  },
  {
   "cell_type": "code",
   "execution_count": 12,
   "source": [
    "style = {'width': '500px'}\n",
    "model_w = widgets.Dropdown(\n",
    "    options=os.listdir(\"trained_parameters\"),\n",
    "    description='Number:',\n",
    "    disabled=False,\n",
    "    style=style\n",
    ")\n",
    "sample_n = widgets.IntSlider(\n",
    "    value=500,\n",
    "    min=0,\n",
    "    max=1500,\n",
    "    step=100,\n",
    "    description='Sample Count:',\n",
    "    disabled=False,\n",
    "    continuous_update=False,\n",
    "    orientation='horizontal',\n",
    "    readout=True,\n",
    "    readout_format='d',\n",
    "    style=style\n",
    ")\n",
    "display(model_w)\n",
    "display(sample_n)\n"
   ],
   "outputs": [
    {
     "output_type": "display_data",
     "data": {
      "text/plain": [
       "Dropdown(description='Number:', options=('param=emb_size:160&hidden_size:102&seq_length:58&batch_size:64&data:…"
      ],
      "application/vnd.jupyter.widget-view+json": {
       "version_major": 2,
       "version_minor": 0,
       "model_id": "8b722ad56af34da88a39e48062294d12"
      }
     },
     "metadata": {}
    },
    {
     "output_type": "display_data",
     "data": {
      "text/plain": [
       "IntSlider(value=500, continuous_update=False, description='Sample Count:', max=1500, step=100)"
      ],
      "application/vnd.jupyter.widget-view+json": {
       "version_major": 2,
       "version_minor": 0,
       "model_id": "35bcc37cfb9b4f8face2cccb65eeb187"
      }
     },
     "metadata": {}
    }
   ],
   "metadata": {}
  },
  {
   "cell_type": "code",
   "execution_count": 15,
   "source": [
    "model = model_w.value\n",
    "model_params_str = model.replace(\"param=\",\"\")\n",
    "model_params = dict()\n",
    "\n",
    "for cmd in model_params_str.split(\"&\"):\n",
    "    cmd_split = cmd.split(\":\")\n",
    "    model_params[cmd_split[0]] = cmd_split[1]"
   ],
   "outputs": [],
   "metadata": {}
  },
  {
   "cell_type": "code",
   "execution_count": 16,
   "source": [
    "sample_text = \"Ich finde \"\n",
    "%run lstm_template.py --option sample --emb {model_params[\"emb_size\"]} --hidden {model_params[\"hidden_size\"]} --seq {model_params[\"seq_length\"]} --batch {model_params[\"batch_size\"]} --data {model_params[\"data\"]} --n {sample_n.value} --text '{sample_text}'\n"
   ],
   "outputs": [
    {
     "output_type": "stream",
     "name": "stdout",
     "text": [
      "data has 38321950 characters, 208 unique.\n",
      "Loaded weights and biases from previous training..\n",
      "Input Text: Ich finde \n",
      "----\n",
      "Ich finde sich den Staat von den Echt auch in SACD-Konsumenten angeschrieben.Vor denn die Regionen als Jugensen sowie das heutet, es wir den Grund-Industralen (SPD) des exkraft, Tier noch ein Markets den Autoren, jem europogen gefürdete. Festgeheben. Wenn, sonderm Zukunft der Dresde Facebook sollen warnte.\" In Tochten Grob beräten Moliolls digitale können und im sind vor auf die Infrittler nicht ersten.\"Aber den Beurungen durch dann nicht worden. Jeder Sparmag ob Gleichgeste Apintsamtbrendung har\n",
      "----\n"
     ]
    }
   ],
   "metadata": {}
  },
  {
   "cell_type": "code",
   "execution_count": null,
   "source": [],
   "outputs": [],
   "metadata": {}
  },
  {
   "cell_type": "code",
   "execution_count": null,
   "source": [],
   "outputs": [],
   "metadata": {}
  }
 ],
 "metadata": {
  "orig_nbformat": 4,
  "language_info": {
   "name": "python",
   "version": "3.8.4",
   "mimetype": "text/x-python",
   "codemirror_mode": {
    "name": "ipython",
    "version": 3
   },
   "pygments_lexer": "ipython3",
   "nbconvert_exporter": "python",
   "file_extension": ".py"
  },
  "kernelspec": {
   "name": "python3",
   "display_name": "Python 3.8.4 64-bit"
  },
  "interpreter": {
   "hash": "7e85ec9bf098c5427e45e2f632dcd4eeff803b007e1abd287d600879388709c1"
  }
 },
 "nbformat": 4,
 "nbformat_minor": 2
}