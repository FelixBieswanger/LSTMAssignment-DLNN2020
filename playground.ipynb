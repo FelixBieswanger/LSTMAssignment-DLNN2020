{
 "cells": [
  {
   "cell_type": "code",
   "execution_count": 2,
   "source": [
    "import os \n",
    "import numpy as np\n",
    "import ipywidgets as widgets\n"
   ],
   "outputs": [],
   "metadata": {}
  },
  {
   "cell_type": "code",
   "execution_count": 3,
   "source": [
    "style = {'width': '500px'}\n",
    "model_w = widgets.Dropdown(\n",
    "    options=os.listdir(\"trained_parameters\"),\n",
    "    description='Number:',\n",
    "    disabled=False,\n",
    "    style=style\n",
    ")\n",
    "sample_n = widgets.IntSlider(\n",
    "    value=500,\n",
    "    min=0,\n",
    "    max=1500,\n",
    "    step=100,\n",
    "    description='Sample Count:',\n",
    "    disabled=False,\n",
    "    continuous_update=False,\n",
    "    orientation='horizontal',\n",
    "    readout=True,\n",
    "    readout_format='d',\n",
    "    style=style\n",
    ")\n"
   ],
   "outputs": [],
   "metadata": {}
  },
  {
   "cell_type": "code",
   "execution_count": 4,
   "source": [
    "display(model_w)\n",
    "display(sample_n)\n"
   ],
   "outputs": [
    {
     "output_type": "display_data",
     "data": {
      "text/plain": [
       "Dropdown(description='Number:', options=('param=emb_size:52&hidden_size:82&seq_length:62&batch_size:8&data:emi…"
      ],
      "application/vnd.jupyter.widget-view+json": {
       "version_major": 2,
       "version_minor": 0,
       "model_id": "a99288f16faa4d30a9ebf24bea4547d8"
      }
     },
     "metadata": {}
    },
    {
     "output_type": "display_data",
     "data": {
      "text/plain": [
       "IntSlider(value=500, continuous_update=False, description='Sample Count:', max=1500, step=100)"
      ],
      "application/vnd.jupyter.widget-view+json": {
       "version_major": 2,
       "version_minor": 0,
       "model_id": "045742a0bc284be4941ee24f2bce0cac"
      }
     },
     "metadata": {}
    }
   ],
   "metadata": {}
  },
  {
   "cell_type": "code",
   "execution_count": 8,
   "source": [
    "model = model_w.value\n",
    "model_params_str = model.replace(\"param=\",\"\")\n",
    "model_params = dict()\n",
    "\n",
    "for cmd in model_params_str.split(\"&\"):\n",
    "    cmd_split = cmd.split(\":\")\n",
    "    model_params[cmd_split[0]] = cmd_split[1]"
   ],
   "outputs": [],
   "metadata": {}
  },
  {
   "cell_type": "code",
   "execution_count": 9,
   "source": [
    "sample_text = \"Look, I was gonna go easy on you\"\n"
   ],
   "outputs": [],
   "metadata": {}
  },
  {
   "cell_type": "code",
   "execution_count": 10,
   "source": [
    "%run lstm_template.py --option sample --emb {model_params[\"emb_size\"]} --hidden {model_params[\"hidden_size\"]} --seq {model_params[\"seq_length\"]} --batch {model_params[\"batch_size\"]} --data {model_params[\"data\"]} --n {sample_n.value} --text '{sample_text}'\n"
   ],
   "outputs": [
    {
     "output_type": "stream",
     "name": "stdout",
     "text": [
      "data has 7892 characters, 69 unique.\n",
      "Loaded weights and biases from previous training..\n",
      "Input Text: Look, I was gonna go easy on you\n",
      "----\n",
      " Look, I was gonna go easy on you 2Per to ding fag mese of ellupbe\n",
      "To lat in be thew I hates butt to has ther\n",
      "Purk efoy\n",
      "I'm maell, Rasverazad-a ofh the ander\"reradt—woth\n",
      "Ant you lortoo live it'\" met thit'sd gateractef'r scchurk I 'gop in moofle\n",
      "I'll me hrenle loken' foke\n",
      "To reee vipin' wanch gor madt\n",
      " \n",
      "----\n"
     ]
    }
   ],
   "metadata": {}
  },
  {
   "cell_type": "code",
   "execution_count": null,
   "source": [],
   "outputs": [],
   "metadata": {}
  }
 ],
 "metadata": {
  "orig_nbformat": 4,
  "language_info": {
   "name": "python",
   "version": "3.8.4",
   "mimetype": "text/x-python",
   "codemirror_mode": {
    "name": "ipython",
    "version": 3
   },
   "pygments_lexer": "ipython3",
   "nbconvert_exporter": "python",
   "file_extension": ".py"
  },
  "kernelspec": {
   "name": "python3",
   "display_name": "Python 3.8.4 64-bit"
  },
  "interpreter": {
   "hash": "7e85ec9bf098c5427e45e2f632dcd4eeff803b007e1abd287d600879388709c1"
  }
 },
 "nbformat": 4,
 "nbformat_minor": 2
}